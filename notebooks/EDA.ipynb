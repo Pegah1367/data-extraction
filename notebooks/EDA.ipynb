{
 "cells": [
  {
   "cell_type": "markdown",
   "id": "3912bac2",
   "metadata": {},
   "source": [
    "\n",
    "\n",
    "###  Exploratory Data Analysis (EDA) on Student Grades\n",
    "\n",
    "**Goal:** practice end‑to‑end EDA on a small, intentionally \"messy\" dataset (35 students).  \n",
    "You will:\n",
    "- Generate **synthetic data** (First Name, Last Name, Grade).  \n",
    "- **Inject data issues**: missing values, negative grades, out-of-range values (e.g., 540).  \n",
    "- Perform **EDA**: preview, schema, summary stats, missingness, range checks, outlier flags.  \n",
    "- **Fix errors** with documented, reproducible rules.  \n",
    "- **Visualize** the distribution **before & after** cleaning.  \n",
    "\n",
    "> Replace or extend any section with your own dataset later. Keep the *structure* and *explanations*.\n"
   ]
  },
  {
   "cell_type": "markdown",
   "id": "8414bcc7",
   "metadata": {},
   "source": [
    "\n",
    "## 1) Environment Setup\n",
    "\n",
    "We use standard libraries only:\n",
    "- `pandas` for data wrangling\n",
    "- `numpy` for random generation and numeric ops\n",
    "- `matplotlib` for basic plots\n",
    "\n",
    "> No external installs required. If you run into missing modules, install them in your environment (e.g., `pip install pandas numpy matplotlib`).\n"
   ]
  },
  {
   "cell_type": "code",
   "execution_count": 1,
   "id": "91bbec22",
   "metadata": {},
   "outputs": [
    {
     "name": "stdout",
     "output_type": "stream",
     "text": [
      "Environment ready.\n"
     ]
    }
   ],
   "source": [
    "\n",
    "import pandas as pd\n",
    "import numpy as np\n",
    "import matplotlib.pyplot as plt\n",
    "\n",
    "# For reproducibility\n",
    "rng = np.random.default_rng(4064)\n",
    "pd.set_option('display.max_rows', 50)\n",
    "print(\"Environment ready.\")"
   ]
  },
  {
   "cell_type": "markdown",
   "id": "6515087a",
   "metadata": {},
   "source": [
    "\n",
    "## 2) Generate Synthetic Data (35 students)\n",
    "\n",
    "**Design:**\n",
    "- Randomly sample first and last names from small lists.\n",
    "- Generate grades around a typical distribution (mean≈75, std≈12).\n",
    "- Create a DataFrame with columns: `FirstName`, `LastName`, `Grade`.\n",
    "\n",
    "We'll **intentionally introduce errors** in the next step.\n"
   ]
  },
  {
   "cell_type": "code",
   "execution_count": 5,
   "id": "dbb8f047",
   "metadata": {},
   "outputs": [
    {
     "data": {
      "application/vnd.microsoft.datawrangler.viewer.v0+json": {
       "columns": [
        {
         "name": "index",
         "rawType": "int64",
         "type": "integer"
        },
        {
         "name": "FirstName",
         "rawType": "object",
         "type": "string"
        },
        {
         "name": "LastName",
         "rawType": "object",
         "type": "string"
        },
        {
         "name": "Grade",
         "rawType": "float64",
         "type": "float"
        }
       ],
       "ref": "b2502233-fcc1-49d1-a8da-6d89e26fea87",
       "rows": [
        [
         "0",
         "Alex",
         "Smith",
         "77.8"
        ],
        [
         "1",
         "Taylor",
         "Lee",
         "78.5"
        ],
        [
         "2",
         "Jordan",
         "Patel",
         "82.5"
        ],
        [
         "3",
         "Riley",
         "Brown",
         "64.6"
        ],
        [
         "4",
         "Casey",
         "Martin",
         "65.3"
        ],
        [
         "5",
         "Avery",
         "Garcia",
         "61.7"
        ],
        [
         "6",
         "Morgan",
         "Nguyen",
         "68.4"
        ],
        [
         "7",
         "Quinn",
         "Johnson",
         "65.0"
        ],
        [
         "8",
         "Jamie",
         "Williams",
         "79.8"
        ],
        [
         "9",
         "Skyler",
         "Davis",
         "66.7"
        ]
       ],
       "shape": {
        "columns": 3,
        "rows": 10
       }
      },
      "text/html": [
       "<div>\n",
       "<style scoped>\n",
       "    .dataframe tbody tr th:only-of-type {\n",
       "        vertical-align: middle;\n",
       "    }\n",
       "\n",
       "    .dataframe tbody tr th {\n",
       "        vertical-align: top;\n",
       "    }\n",
       "\n",
       "    .dataframe thead th {\n",
       "        text-align: right;\n",
       "    }\n",
       "</style>\n",
       "<table border=\"1\" class=\"dataframe\">\n",
       "  <thead>\n",
       "    <tr style=\"text-align: right;\">\n",
       "      <th></th>\n",
       "      <th>FirstName</th>\n",
       "      <th>LastName</th>\n",
       "      <th>Grade</th>\n",
       "    </tr>\n",
       "  </thead>\n",
       "  <tbody>\n",
       "    <tr>\n",
       "      <th>0</th>\n",
       "      <td>Alex</td>\n",
       "      <td>Smith</td>\n",
       "      <td>77.8</td>\n",
       "    </tr>\n",
       "    <tr>\n",
       "      <th>1</th>\n",
       "      <td>Taylor</td>\n",
       "      <td>Lee</td>\n",
       "      <td>78.5</td>\n",
       "    </tr>\n",
       "    <tr>\n",
       "      <th>2</th>\n",
       "      <td>Jordan</td>\n",
       "      <td>Patel</td>\n",
       "      <td>82.5</td>\n",
       "    </tr>\n",
       "    <tr>\n",
       "      <th>3</th>\n",
       "      <td>Riley</td>\n",
       "      <td>Brown</td>\n",
       "      <td>64.6</td>\n",
       "    </tr>\n",
       "    <tr>\n",
       "      <th>4</th>\n",
       "      <td>Casey</td>\n",
       "      <td>Martin</td>\n",
       "      <td>65.3</td>\n",
       "    </tr>\n",
       "    <tr>\n",
       "      <th>5</th>\n",
       "      <td>Avery</td>\n",
       "      <td>Garcia</td>\n",
       "      <td>61.7</td>\n",
       "    </tr>\n",
       "    <tr>\n",
       "      <th>6</th>\n",
       "      <td>Morgan</td>\n",
       "      <td>Nguyen</td>\n",
       "      <td>68.4</td>\n",
       "    </tr>\n",
       "    <tr>\n",
       "      <th>7</th>\n",
       "      <td>Quinn</td>\n",
       "      <td>Johnson</td>\n",
       "      <td>65.0</td>\n",
       "    </tr>\n",
       "    <tr>\n",
       "      <th>8</th>\n",
       "      <td>Jamie</td>\n",
       "      <td>Williams</td>\n",
       "      <td>79.8</td>\n",
       "    </tr>\n",
       "    <tr>\n",
       "      <th>9</th>\n",
       "      <td>Skyler</td>\n",
       "      <td>Davis</td>\n",
       "      <td>66.7</td>\n",
       "    </tr>\n",
       "  </tbody>\n",
       "</table>\n",
       "</div>"
      ],
      "text/plain": [
       "  FirstName  LastName  Grade\n",
       "0      Alex     Smith   77.8\n",
       "1    Taylor       Lee   78.5\n",
       "2    Jordan     Patel   82.5\n",
       "3     Riley     Brown   64.6\n",
       "4     Casey    Martin   65.3\n",
       "5     Avery    Garcia   61.7\n",
       "6    Morgan    Nguyen   68.4\n",
       "7     Quinn   Johnson   65.0\n",
       "8     Jamie  Williams   79.8\n",
       "9    Skyler     Davis   66.7"
      ]
     },
     "execution_count": 5,
     "metadata": {},
     "output_type": "execute_result"
    }
   ],
   "source": [
    "\n",
    "# Small name banks (edit/expand as you like)\n",
    "first_names = [\n",
    "    \"Alex\",\"Taylor\",\"Jordan\",\"Riley\",\"Casey\",\"Avery\",\"Morgan\",\"Quinn\",\"Jamie\",\"Skyler\",\n",
    "    \"Sam\",\"Cameron\",\"Drew\",\"Jesse\",\"Parker\",\"Rowan\",\"Hayden\",\"Reese\",\"Emerson\",\"Logan\",\n",
    "    \"Milan\",\"Noa\",\"Eden\",\"Remy\",\"Ari\",\"Kendall\",\"Harley\",\"Corey\",\"Shay\",\"Sage\",\n",
    "    \"Blake\",\"Shawn\",\"Robin\",\"Kris\",\"Cody\"\n",
    "]\n",
    "\n",
    "last_names = [\n",
    "    \"Smith\",\"Lee\",\"Patel\",\"Brown\",\"Martin\",\"Garcia\",\"Nguyen\",\"Johnson\",\"Williams\",\"Davis\",\n",
    "    \"Miller\",\"Wilson\",\"Anderson\",\"Thomas\",\"Lopez\",\"Harris\",\"Clark\",\"Lewis\",\"Walker\",\"Young\",\n",
    "    \"King\",\"Wright\",\"Hill\",\"Scott\",\"Green\",\"Baker\",\"Adams\",\"Nelson\",\"Carter\",\"Mitchell\",\n",
    "    \"Perez\",\"Roberts\",\"Turner\",\"Phillips\",\"Campbell\"\n",
    "]\n",
    "\n",
    "# Generate base grades ~ N(75, 12), clipped to [0, 100] initially (we'll add errors later)\n",
    "base_grades = np.clip(rng.normal(loc=75, scale=12, size=35), 0, 100).round(1)\n",
    "\n",
    "df = pd.DataFrame({\n",
    "    \"FirstName\": first_names,\n",
    "    \"LastName\": last_names,\n",
    "    \"Grade\": base_grades\n",
    "})\n",
    "\n",
    "df.head(10)"
   ]
  },
  {
   "cell_type": "markdown",
   "id": "adb29439",
   "metadata": {},
   "source": [
    "\n",
    "## 3) Inject Data Issues (Missing, Negative, Out-of-Range)\n",
    "\n",
    "We simulate common data quality problems:\n",
    "- Missing values (`NaN`)\n",
    "- Negative grades (e.g., `-10`)\n",
    "- Out-of-range high values (e.g., `540` where `54` was intended)\n",
    "\n",
    "> **Why simulate problems?** EDA isn't just stats; it's about *diagnosing and repairing* real‑world messiness.\n"
   ]
  },
  {
   "cell_type": "code",
   "execution_count": 6,
   "id": "5379c0c6",
   "metadata": {},
   "outputs": [
    {
     "name": "stdout",
     "output_type": "stream",
     "text": [
      "Indices with injected issues: [11, 12, 19, 30, 2, 24]\n"
     ]
    },
    {
     "data": {
      "application/vnd.microsoft.datawrangler.viewer.v0+json": {
       "columns": [
        {
         "name": "index",
         "rawType": "int64",
         "type": "integer"
        },
        {
         "name": "FirstName",
         "rawType": "object",
         "type": "string"
        },
        {
         "name": "LastName",
         "rawType": "object",
         "type": "string"
        },
        {
         "name": "Grade",
         "rawType": "float64",
         "type": "float"
        }
       ],
       "ref": "2d6aef15-d5db-403a-97d0-b77cc05c8a7f",
       "rows": [
        [
         "0",
         "Alex",
         "Smith",
         "77.8"
        ],
        [
         "1",
         "Taylor",
         "Lee",
         "78.5"
        ],
        [
         "2",
         "Jordan",
         "Patel",
         "540.0"
        ],
        [
         "3",
         "Riley",
         "Brown",
         "64.6"
        ],
        [
         "4",
         "Casey",
         "Martin",
         "65.3"
        ],
        [
         "5",
         "Avery",
         "Garcia",
         "61.7"
        ],
        [
         "6",
         "Morgan",
         "Nguyen",
         "68.4"
        ],
        [
         "7",
         "Quinn",
         "Johnson",
         "65.0"
        ],
        [
         "8",
         "Jamie",
         "Williams",
         "79.8"
        ],
        [
         "9",
         "Skyler",
         "Davis",
         "66.7"
        ],
        [
         "10",
         "Sam",
         "Miller",
         "72.5"
        ],
        [
         "11",
         "Cameron",
         "Wilson",
         null
        ],
        [
         "12",
         "Drew",
         "Anderson",
         null
        ],
        [
         "13",
         "Jesse",
         "Thomas",
         "71.8"
        ],
        [
         "14",
         "Parker",
         "Lopez",
         "61.7"
        ]
       ],
       "shape": {
        "columns": 3,
        "rows": 15
       }
      },
      "text/html": [
       "<div>\n",
       "<style scoped>\n",
       "    .dataframe tbody tr th:only-of-type {\n",
       "        vertical-align: middle;\n",
       "    }\n",
       "\n",
       "    .dataframe tbody tr th {\n",
       "        vertical-align: top;\n",
       "    }\n",
       "\n",
       "    .dataframe thead th {\n",
       "        text-align: right;\n",
       "    }\n",
       "</style>\n",
       "<table border=\"1\" class=\"dataframe\">\n",
       "  <thead>\n",
       "    <tr style=\"text-align: right;\">\n",
       "      <th></th>\n",
       "      <th>FirstName</th>\n",
       "      <th>LastName</th>\n",
       "      <th>Grade</th>\n",
       "    </tr>\n",
       "  </thead>\n",
       "  <tbody>\n",
       "    <tr>\n",
       "      <th>0</th>\n",
       "      <td>Alex</td>\n",
       "      <td>Smith</td>\n",
       "      <td>77.8</td>\n",
       "    </tr>\n",
       "    <tr>\n",
       "      <th>1</th>\n",
       "      <td>Taylor</td>\n",
       "      <td>Lee</td>\n",
       "      <td>78.5</td>\n",
       "    </tr>\n",
       "    <tr>\n",
       "      <th>2</th>\n",
       "      <td>Jordan</td>\n",
       "      <td>Patel</td>\n",
       "      <td>540.0</td>\n",
       "    </tr>\n",
       "    <tr>\n",
       "      <th>3</th>\n",
       "      <td>Riley</td>\n",
       "      <td>Brown</td>\n",
       "      <td>64.6</td>\n",
       "    </tr>\n",
       "    <tr>\n",
       "      <th>4</th>\n",
       "      <td>Casey</td>\n",
       "      <td>Martin</td>\n",
       "      <td>65.3</td>\n",
       "    </tr>\n",
       "    <tr>\n",
       "      <th>5</th>\n",
       "      <td>Avery</td>\n",
       "      <td>Garcia</td>\n",
       "      <td>61.7</td>\n",
       "    </tr>\n",
       "    <tr>\n",
       "      <th>6</th>\n",
       "      <td>Morgan</td>\n",
       "      <td>Nguyen</td>\n",
       "      <td>68.4</td>\n",
       "    </tr>\n",
       "    <tr>\n",
       "      <th>7</th>\n",
       "      <td>Quinn</td>\n",
       "      <td>Johnson</td>\n",
       "      <td>65.0</td>\n",
       "    </tr>\n",
       "    <tr>\n",
       "      <th>8</th>\n",
       "      <td>Jamie</td>\n",
       "      <td>Williams</td>\n",
       "      <td>79.8</td>\n",
       "    </tr>\n",
       "    <tr>\n",
       "      <th>9</th>\n",
       "      <td>Skyler</td>\n",
       "      <td>Davis</td>\n",
       "      <td>66.7</td>\n",
       "    </tr>\n",
       "    <tr>\n",
       "      <th>10</th>\n",
       "      <td>Sam</td>\n",
       "      <td>Miller</td>\n",
       "      <td>72.5</td>\n",
       "    </tr>\n",
       "    <tr>\n",
       "      <th>11</th>\n",
       "      <td>Cameron</td>\n",
       "      <td>Wilson</td>\n",
       "      <td>NaN</td>\n",
       "    </tr>\n",
       "    <tr>\n",
       "      <th>12</th>\n",
       "      <td>Drew</td>\n",
       "      <td>Anderson</td>\n",
       "      <td>NaN</td>\n",
       "    </tr>\n",
       "    <tr>\n",
       "      <th>13</th>\n",
       "      <td>Jesse</td>\n",
       "      <td>Thomas</td>\n",
       "      <td>71.8</td>\n",
       "    </tr>\n",
       "    <tr>\n",
       "      <th>14</th>\n",
       "      <td>Parker</td>\n",
       "      <td>Lopez</td>\n",
       "      <td>61.7</td>\n",
       "    </tr>\n",
       "  </tbody>\n",
       "</table>\n",
       "</div>"
      ],
      "text/plain": [
       "   FirstName  LastName  Grade\n",
       "0       Alex     Smith   77.8\n",
       "1     Taylor       Lee   78.5\n",
       "2     Jordan     Patel  540.0\n",
       "3      Riley     Brown   64.6\n",
       "4      Casey    Martin   65.3\n",
       "5      Avery    Garcia   61.7\n",
       "6     Morgan    Nguyen   68.4\n",
       "7      Quinn   Johnson   65.0\n",
       "8      Jamie  Williams   79.8\n",
       "9     Skyler     Davis   66.7\n",
       "10       Sam    Miller   72.5\n",
       "11   Cameron    Wilson    NaN\n",
       "12      Drew  Anderson    NaN\n",
       "13     Jesse    Thomas   71.8\n",
       "14    Parker     Lopez   61.7"
      ]
     },
     "execution_count": 6,
     "metadata": {},
     "output_type": "execute_result"
    }
   ],
   "source": [
    "\n",
    "df_dirty = df.copy()\n",
    "\n",
    "# Inject a few issues deterministically so everyone's notebook is similar\n",
    "issue_indices = rng.choice(df_dirty.index, size=6, replace=False)\n",
    "\n",
    "# 2 missing grades\n",
    "df_dirty.loc[issue_indices[0], \"Grade\"] = np.nan\n",
    "df_dirty.loc[issue_indices[1], \"Grade\"] = np.nan\n",
    "\n",
    "# 2 negative grades\n",
    "df_dirty.loc[issue_indices[2], \"Grade\"] = -10\n",
    "df_dirty.loc[issue_indices[3], \"Grade\"] = -3\n",
    "\n",
    "# 1 extreme high (likely 10x typo)\n",
    "df_dirty.loc[issue_indices[4], \"Grade\"] = 540\n",
    "\n",
    "# 1 slightly >100 (e.g., 104) to test upper-bound fix\n",
    "df_dirty.loc[issue_indices[5], \"Grade\"] = 104\n",
    "\n",
    "print(\"Indices with injected issues:\", issue_indices.tolist())\n",
    "df_dirty.head(15)"
   ]
  },
  {
   "cell_type": "markdown",
   "id": "750fb3f4",
   "metadata": {},
   "source": [
    "\n",
    "## 4) EDA: Quick Preview & Schema\n",
    "\n",
    "Look at a **sample**, the **schema**, and **summary statistics** to get a sense of the data.\n"
   ]
  },
  {
   "cell_type": "code",
   "execution_count": 7,
   "id": "2ef871e5",
   "metadata": {},
   "outputs": [
    {
     "name": "stdout",
     "output_type": "stream",
     "text": [
      "Head:\n"
     ]
    },
    {
     "data": {
      "application/vnd.microsoft.datawrangler.viewer.v0+json": {
       "columns": [
        {
         "name": "index",
         "rawType": "int64",
         "type": "integer"
        },
        {
         "name": "FirstName",
         "rawType": "object",
         "type": "string"
        },
        {
         "name": "LastName",
         "rawType": "object",
         "type": "string"
        },
        {
         "name": "Grade",
         "rawType": "float64",
         "type": "float"
        }
       ],
       "ref": "fe9363a2-092b-46a6-a20f-7c8f5ba1b4d4",
       "rows": [
        [
         "0",
         "Alex",
         "Smith",
         "77.8"
        ],
        [
         "1",
         "Taylor",
         "Lee",
         "78.5"
        ],
        [
         "2",
         "Jordan",
         "Patel",
         "540.0"
        ],
        [
         "3",
         "Riley",
         "Brown",
         "64.6"
        ],
        [
         "4",
         "Casey",
         "Martin",
         "65.3"
        ]
       ],
       "shape": {
        "columns": 3,
        "rows": 5
       }
      },
      "text/html": [
       "<div>\n",
       "<style scoped>\n",
       "    .dataframe tbody tr th:only-of-type {\n",
       "        vertical-align: middle;\n",
       "    }\n",
       "\n",
       "    .dataframe tbody tr th {\n",
       "        vertical-align: top;\n",
       "    }\n",
       "\n",
       "    .dataframe thead th {\n",
       "        text-align: right;\n",
       "    }\n",
       "</style>\n",
       "<table border=\"1\" class=\"dataframe\">\n",
       "  <thead>\n",
       "    <tr style=\"text-align: right;\">\n",
       "      <th></th>\n",
       "      <th>FirstName</th>\n",
       "      <th>LastName</th>\n",
       "      <th>Grade</th>\n",
       "    </tr>\n",
       "  </thead>\n",
       "  <tbody>\n",
       "    <tr>\n",
       "      <th>0</th>\n",
       "      <td>Alex</td>\n",
       "      <td>Smith</td>\n",
       "      <td>77.8</td>\n",
       "    </tr>\n",
       "    <tr>\n",
       "      <th>1</th>\n",
       "      <td>Taylor</td>\n",
       "      <td>Lee</td>\n",
       "      <td>78.5</td>\n",
       "    </tr>\n",
       "    <tr>\n",
       "      <th>2</th>\n",
       "      <td>Jordan</td>\n",
       "      <td>Patel</td>\n",
       "      <td>540.0</td>\n",
       "    </tr>\n",
       "    <tr>\n",
       "      <th>3</th>\n",
       "      <td>Riley</td>\n",
       "      <td>Brown</td>\n",
       "      <td>64.6</td>\n",
       "    </tr>\n",
       "    <tr>\n",
       "      <th>4</th>\n",
       "      <td>Casey</td>\n",
       "      <td>Martin</td>\n",
       "      <td>65.3</td>\n",
       "    </tr>\n",
       "  </tbody>\n",
       "</table>\n",
       "</div>"
      ],
      "text/plain": [
       "  FirstName LastName  Grade\n",
       "0      Alex    Smith   77.8\n",
       "1    Taylor      Lee   78.5\n",
       "2    Jordan    Patel  540.0\n",
       "3     Riley    Brown   64.6\n",
       "4     Casey   Martin   65.3"
      ]
     },
     "metadata": {},
     "output_type": "display_data"
    },
    {
     "name": "stdout",
     "output_type": "stream",
     "text": [
      "\n",
      "Info:\n",
      "<class 'pandas.core.frame.DataFrame'>\n",
      "RangeIndex: 35 entries, 0 to 34\n",
      "Data columns (total 3 columns):\n",
      " #   Column     Non-Null Count  Dtype  \n",
      "---  ------     --------------  -----  \n",
      " 0   FirstName  35 non-null     object \n",
      " 1   LastName   35 non-null     object \n",
      " 2   Grade      33 non-null     float64\n",
      "dtypes: float64(1), object(2)\n",
      "memory usage: 972.0+ bytes\n"
     ]
    },
    {
     "data": {
      "text/plain": [
       "None"
      ]
     },
     "metadata": {},
     "output_type": "display_data"
    },
    {
     "name": "stdout",
     "output_type": "stream",
     "text": [
      "\n",
      "Describe (numeric):\n"
     ]
    },
    {
     "data": {
      "application/vnd.microsoft.datawrangler.viewer.v0+json": {
       "columns": [
        {
         "name": "index",
         "rawType": "object",
         "type": "string"
        },
        {
         "name": "Grade",
         "rawType": "float64",
         "type": "float"
        }
       ],
       "ref": "5dca9b88-eac2-4eb1-aee0-fbfe45426819",
       "rows": [
        [
         "count",
         "33.0"
        ],
        [
         "mean",
         "83.77878787878788"
        ],
        [
         "std",
         "85.04929363895297"
        ],
        [
         "min",
         "-10.0"
        ],
        [
         "25%",
         "65.0"
        ],
        [
         "50%",
         "72.5"
        ],
        [
         "75%",
         "81.6"
        ],
        [
         "max",
         "540.0"
        ]
       ],
       "shape": {
        "columns": 1,
        "rows": 8
       }
      },
      "text/html": [
       "<div>\n",
       "<style scoped>\n",
       "    .dataframe tbody tr th:only-of-type {\n",
       "        vertical-align: middle;\n",
       "    }\n",
       "\n",
       "    .dataframe tbody tr th {\n",
       "        vertical-align: top;\n",
       "    }\n",
       "\n",
       "    .dataframe thead th {\n",
       "        text-align: right;\n",
       "    }\n",
       "</style>\n",
       "<table border=\"1\" class=\"dataframe\">\n",
       "  <thead>\n",
       "    <tr style=\"text-align: right;\">\n",
       "      <th></th>\n",
       "      <th>Grade</th>\n",
       "    </tr>\n",
       "  </thead>\n",
       "  <tbody>\n",
       "    <tr>\n",
       "      <th>count</th>\n",
       "      <td>33.000000</td>\n",
       "    </tr>\n",
       "    <tr>\n",
       "      <th>mean</th>\n",
       "      <td>83.778788</td>\n",
       "    </tr>\n",
       "    <tr>\n",
       "      <th>std</th>\n",
       "      <td>85.049294</td>\n",
       "    </tr>\n",
       "    <tr>\n",
       "      <th>min</th>\n",
       "      <td>-10.000000</td>\n",
       "    </tr>\n",
       "    <tr>\n",
       "      <th>25%</th>\n",
       "      <td>65.000000</td>\n",
       "    </tr>\n",
       "    <tr>\n",
       "      <th>50%</th>\n",
       "      <td>72.500000</td>\n",
       "    </tr>\n",
       "    <tr>\n",
       "      <th>75%</th>\n",
       "      <td>81.600000</td>\n",
       "    </tr>\n",
       "    <tr>\n",
       "      <th>max</th>\n",
       "      <td>540.000000</td>\n",
       "    </tr>\n",
       "  </tbody>\n",
       "</table>\n",
       "</div>"
      ],
      "text/plain": [
       "            Grade\n",
       "count   33.000000\n",
       "mean    83.778788\n",
       "std     85.049294\n",
       "min    -10.000000\n",
       "25%     65.000000\n",
       "50%     72.500000\n",
       "75%     81.600000\n",
       "max    540.000000"
      ]
     },
     "metadata": {},
     "output_type": "display_data"
    }
   ],
   "source": [
    "\n",
    "print(\"Head:\")\n",
    "display(df_dirty.head())\n",
    "\n",
    "print(\"\\nInfo:\")\n",
    "display(df_dirty.info())\n",
    "\n",
    "print(\"\\nDescribe (numeric):\")\n",
    "display(df_dirty.describe())"
   ]
  },
  {
   "cell_type": "markdown",
   "id": "dc50feac",
   "metadata": {},
   "source": [
    "\n",
    "## 5) Missingness & Validity Checks\n",
    "\n",
    "**Checks:**\n",
    "- Missing values per column\n",
    "- Count invalid grades: `<0` or `>100`\n",
    "- Identify obvious 10× typos (e.g., values > 100 and ending with a '0')\n",
    "\n",
    "> These *rule‑based* checks should be **clear** and **defensible**. Document your assumptions.\n"
   ]
  },
  {
   "cell_type": "code",
   "execution_count": 8,
   "id": "609c6490",
   "metadata": {},
   "outputs": [
    {
     "name": "stdout",
     "output_type": "stream",
     "text": [
      "Missing values per column:\n"
     ]
    },
    {
     "data": {
      "application/vnd.microsoft.datawrangler.viewer.v0+json": {
       "columns": [
        {
         "name": "index",
         "rawType": "object",
         "type": "string"
        },
        {
         "name": "missing",
         "rawType": "int64",
         "type": "integer"
        }
       ],
       "ref": "5be658af-eebd-4dc1-95bb-e41623e99130",
       "rows": [
        [
         "FirstName",
         "0"
        ],
        [
         "LastName",
         "0"
        ],
        [
         "Grade",
         "2"
        ]
       ],
       "shape": {
        "columns": 1,
        "rows": 3
       }
      },
      "text/html": [
       "<div>\n",
       "<style scoped>\n",
       "    .dataframe tbody tr th:only-of-type {\n",
       "        vertical-align: middle;\n",
       "    }\n",
       "\n",
       "    .dataframe tbody tr th {\n",
       "        vertical-align: top;\n",
       "    }\n",
       "\n",
       "    .dataframe thead th {\n",
       "        text-align: right;\n",
       "    }\n",
       "</style>\n",
       "<table border=\"1\" class=\"dataframe\">\n",
       "  <thead>\n",
       "    <tr style=\"text-align: right;\">\n",
       "      <th></th>\n",
       "      <th>missing</th>\n",
       "    </tr>\n",
       "  </thead>\n",
       "  <tbody>\n",
       "    <tr>\n",
       "      <th>FirstName</th>\n",
       "      <td>0</td>\n",
       "    </tr>\n",
       "    <tr>\n",
       "      <th>LastName</th>\n",
       "      <td>0</td>\n",
       "    </tr>\n",
       "    <tr>\n",
       "      <th>Grade</th>\n",
       "      <td>2</td>\n",
       "    </tr>\n",
       "  </tbody>\n",
       "</table>\n",
       "</div>"
      ],
      "text/plain": [
       "           missing\n",
       "FirstName        0\n",
       "LastName         0\n",
       "Grade            2"
      ]
     },
     "metadata": {},
     "output_type": "display_data"
    },
    {
     "name": "stdout",
     "output_type": "stream",
     "text": [
      "Invalid negatives: 2\n",
      "Invalid >100: 2\n",
      "Potential 10x-typos (value > 100 and ending in 0):\n"
     ]
    },
    {
     "data": {
      "application/vnd.microsoft.datawrangler.viewer.v0+json": {
       "columns": [
        {
         "name": "index",
         "rawType": "int64",
         "type": "integer"
        },
        {
         "name": "FirstName",
         "rawType": "object",
         "type": "string"
        },
        {
         "name": "LastName",
         "rawType": "object",
         "type": "string"
        },
        {
         "name": "Grade",
         "rawType": "float64",
         "type": "float"
        }
       ],
       "ref": "3a16da40-4ef5-4fc4-a1f5-22b4ec697326",
       "rows": [
        [
         "2",
         "Jordan",
         "Patel",
         "540.0"
        ]
       ],
       "shape": {
        "columns": 3,
        "rows": 1
       }
      },
      "text/html": [
       "<div>\n",
       "<style scoped>\n",
       "    .dataframe tbody tr th:only-of-type {\n",
       "        vertical-align: middle;\n",
       "    }\n",
       "\n",
       "    .dataframe tbody tr th {\n",
       "        vertical-align: top;\n",
       "    }\n",
       "\n",
       "    .dataframe thead th {\n",
       "        text-align: right;\n",
       "    }\n",
       "</style>\n",
       "<table border=\"1\" class=\"dataframe\">\n",
       "  <thead>\n",
       "    <tr style=\"text-align: right;\">\n",
       "      <th></th>\n",
       "      <th>FirstName</th>\n",
       "      <th>LastName</th>\n",
       "      <th>Grade</th>\n",
       "    </tr>\n",
       "  </thead>\n",
       "  <tbody>\n",
       "    <tr>\n",
       "      <th>2</th>\n",
       "      <td>Jordan</td>\n",
       "      <td>Patel</td>\n",
       "      <td>540.0</td>\n",
       "    </tr>\n",
       "  </tbody>\n",
       "</table>\n",
       "</div>"
      ],
      "text/plain": [
       "  FirstName LastName  Grade\n",
       "2    Jordan    Patel  540.0"
      ]
     },
     "metadata": {},
     "output_type": "display_data"
    }
   ],
   "source": [
    "\n",
    "missing_counts = df_dirty.isna().sum()\n",
    "\n",
    "invalid_negative = (df_dirty[\"Grade\"] < 0).sum(skipna=True)\n",
    "invalid_over_100 = (df_dirty[\"Grade\"] > 100).sum(skipna=True)\n",
    "\n",
    "# flag potential 10x typos: >100 and approximate multiple of 10 after rounding\n",
    "potential_ten_x = df_dirty[\"Grade\"].apply(lambda x: isinstance(x, (int, float)) and x>100 and abs(x/10 - round(x/10)) < 1e-9)\n",
    "\n",
    "summary_checks = pd.DataFrame({\n",
    "    \"missing\": missing_counts,\n",
    "})\n",
    "print(\"Missing values per column:\")\n",
    "display(summary_checks)\n",
    "\n",
    "print(f\"Invalid negatives: {invalid_negative}\")\n",
    "print(f\"Invalid >100: {invalid_over_100}\")\n",
    "print(\"Potential 10x-typos (value > 100 and ending in 0):\")\n",
    "display(df_dirty.loc[potential_ten_x.fillna(False), [\"FirstName\",\"LastName\",\"Grade\"]])"
   ]
  },
  {
   "cell_type": "markdown",
   "id": "17fe20c2",
   "metadata": {},
   "source": [
    "\n",
    "## 6) Visualize Distribution (Before Cleaning)\n",
    "\n",
    "Plot the grade distribution to see the impact of errors and missing values.\n",
    "> Keep plots simple and readable. (One chart per cell; do not set custom colors.)\n"
   ]
  },
  {
   "cell_type": "code",
   "execution_count": 9,
   "id": "69495658",
   "metadata": {},
   "outputs": [
    {
     "data": {
      "image/png": "[encoded data removed]",
      "text/plain": [
       "<Figure size 640x480 with 1 Axes>"
      ]
     },
     "metadata": {},
     "output_type": "display_data"
    }
   ],
   "source": [
    "\n",
    "plt.figure()\n",
    "df_dirty[\"Grade\"].plot(kind=\"hist\", bins=15, edgecolor=\"black\")\n",
    "plt.title(\"Grade Distribution (Before Cleaning)\")\n",
    "plt.xlabel(\"Grade\")\n",
    "plt.ylabel(\"Frequency\")\n",
    "plt.show()"
   ]
  },
  {
   "cell_type": "markdown",
   "id": "e1783e6c",
   "metadata": {},
   "source": [
    "\n",
    "## 7) Cleaning Strategy (Documented Rules)\n",
    "\n",
    "We will apply **clear, reproducible** rules:\n",
    "1. **Fix obvious 10× typos**: if `Grade > 100` *and* ends with `0`, divide by 10 (e.g., `540 → 54`).  \n",
    "2. **Clip out-of-range values**: after step 1, clip remaining grades to `[0, 100]`.  \n",
    "3. **Impute missing values**: use the **median** (robust to outliers) of valid grades.  \n",
    "4. Keep a **cleaning log** of what changed.\n",
    "\n",
    "> Replace these with your own rules when you switch to your dataset.\n"
   ]
  },
  {
   "cell_type": "code",
   "execution_count": 10,
   "id": "f3edccf4",
   "metadata": {},
   "outputs": [
    {
     "name": "stdout",
     "output_type": "stream",
     "text": [
      "Divided 1 suspected 10x-typo grade(s) by 10.\n",
      "Clipped out-of-range values: before=3, after=0.\n",
      "Imputed 2 missing grade(s) with median=72.0.\n"
     ]
    },
    {
     "data": {
      "application/vnd.microsoft.datawrangler.viewer.v0+json": {
       "columns": [
        {
         "name": "index",
         "rawType": "int64",
         "type": "integer"
        },
        {
         "name": "FirstName",
         "rawType": "object",
         "type": "string"
        },
        {
         "name": "LastName",
         "rawType": "object",
         "type": "string"
        },
        {
         "name": "Grade",
         "rawType": "float64",
         "type": "float"
        }
       ],
       "ref": "06290e68-e356-432f-8a4b-6213be2bc9f5",
       "rows": [
        [
         "0",
         "Alex",
         "Smith",
         "77.8"
        ],
        [
         "1",
         "Taylor",
         "Lee",
         "78.5"
        ],
        [
         "2",
         "Jordan",
         "Patel",
         "54.0"
        ],
        [
         "3",
         "Riley",
         "Brown",
         "64.6"
        ],
        [
         "4",
         "Casey",
         "Martin",
         "65.3"
        ],
        [
         "5",
         "Avery",
         "Garcia",
         "61.7"
        ],
        [
         "6",
         "Morgan",
         "Nguyen",
         "68.4"
        ],
        [
         "7",
         "Quinn",
         "Johnson",
         "65.0"
        ],
        [
         "8",
         "Jamie",
         "Williams",
         "79.8"
        ],
        [
         "9",
         "Skyler",
         "Davis",
         "66.7"
        ]
       ],
       "shape": {
        "columns": 3,
        "rows": 10
       }
      },
      "text/html": [
       "<div>\n",
       "<style scoped>\n",
       "    .dataframe tbody tr th:only-of-type {\n",
       "        vertical-align: middle;\n",
       "    }\n",
       "\n",
       "    .dataframe tbody tr th {\n",
       "        vertical-align: top;\n",
       "    }\n",
       "\n",
       "    .dataframe thead th {\n",
       "        text-align: right;\n",
       "    }\n",
       "</style>\n",
       "<table border=\"1\" class=\"dataframe\">\n",
       "  <thead>\n",
       "    <tr style=\"text-align: right;\">\n",
       "      <th></th>\n",
       "      <th>FirstName</th>\n",
       "      <th>LastName</th>\n",
       "      <th>Grade</th>\n",
       "    </tr>\n",
       "  </thead>\n",
       "  <tbody>\n",
       "    <tr>\n",
       "      <th>0</th>\n",
       "      <td>Alex</td>\n",
       "      <td>Smith</td>\n",
       "      <td>77.8</td>\n",
       "    </tr>\n",
       "    <tr>\n",
       "      <th>1</th>\n",
       "      <td>Taylor</td>\n",
       "      <td>Lee</td>\n",
       "      <td>78.5</td>\n",
       "    </tr>\n",
       "    <tr>\n",
       "      <th>2</th>\n",
       "      <td>Jordan</td>\n",
       "      <td>Patel</td>\n",
       "      <td>54.0</td>\n",
       "    </tr>\n",
       "    <tr>\n",
       "      <th>3</th>\n",
       "      <td>Riley</td>\n",
       "      <td>Brown</td>\n",
       "      <td>64.6</td>\n",
       "    </tr>\n",
       "    <tr>\n",
       "      <th>4</th>\n",
       "      <td>Casey</td>\n",
       "      <td>Martin</td>\n",
       "      <td>65.3</td>\n",
       "    </tr>\n",
       "    <tr>\n",
       "      <th>5</th>\n",
       "      <td>Avery</td>\n",
       "      <td>Garcia</td>\n",
       "      <td>61.7</td>\n",
       "    </tr>\n",
       "    <tr>\n",
       "      <th>6</th>\n",
       "      <td>Morgan</td>\n",
       "      <td>Nguyen</td>\n",
       "      <td>68.4</td>\n",
       "    </tr>\n",
       "    <tr>\n",
       "      <th>7</th>\n",
       "      <td>Quinn</td>\n",
       "      <td>Johnson</td>\n",
       "      <td>65.0</td>\n",
       "    </tr>\n",
       "    <tr>\n",
       "      <th>8</th>\n",
       "      <td>Jamie</td>\n",
       "      <td>Williams</td>\n",
       "      <td>79.8</td>\n",
       "    </tr>\n",
       "    <tr>\n",
       "      <th>9</th>\n",
       "      <td>Skyler</td>\n",
       "      <td>Davis</td>\n",
       "      <td>66.7</td>\n",
       "    </tr>\n",
       "  </tbody>\n",
       "</table>\n",
       "</div>"
      ],
      "text/plain": [
       "  FirstName  LastName  Grade\n",
       "0      Alex     Smith   77.8\n",
       "1    Taylor       Lee   78.5\n",
       "2    Jordan     Patel   54.0\n",
       "3     Riley     Brown   64.6\n",
       "4     Casey    Martin   65.3\n",
       "5     Avery    Garcia   61.7\n",
       "6    Morgan    Nguyen   68.4\n",
       "7     Quinn   Johnson   65.0\n",
       "8     Jamie  Williams   79.8\n",
       "9    Skyler     Davis   66.7"
      ]
     },
     "execution_count": 10,
     "metadata": {},
     "output_type": "execute_result"
    }
   ],
   "source": [
    "\n",
    "df_clean = df_dirty.copy()\n",
    "\n",
    "cleaning_log = []\n",
    "\n",
    "# 1) Fix 10x typos\n",
    "ten_x_mask = df_clean[\"Grade\"].apply(lambda x: isinstance(x, (int, float)) and x>100 and abs(x/10 - round(x/10)) < 1e-9)\n",
    "df_clean.loc[ten_x_mask, \"Grade\"] = df_clean.loc[ten_x_mask, \"Grade\"] / 10.0\n",
    "cleaning_log.append(f\"Divided {ten_x_mask.sum()} suspected 10x-typo grade(s) by 10.\")\n",
    "\n",
    "# 2) Clip to [0, 100]\n",
    "before_clip_out_of_range = ((df_clean[\"Grade\"] < 0) | (df_clean[\"Grade\"] > 100)).sum(skipna=True)\n",
    "df_clean[\"Grade\"] = df_clean[\"Grade\"].clip(lower=0, upper=100)\n",
    "after_clip_out_of_range = ((df_clean[\"Grade\"] < 0) | (df_clean[\"Grade\"] > 100)).sum(skipna=True)\n",
    "cleaning_log.append(f\"Clipped out-of-range values: before={before_clip_out_of_range}, after={after_clip_out_of_range}.\")\n",
    "\n",
    "# 3) Impute missing with median of valid grades\n",
    "median_grade = df_clean[\"Grade\"].median(skipna=True)\n",
    "n_missing = df_clean[\"Grade\"].isna().sum()\n",
    "df_clean[\"Grade\"] = df_clean[\"Grade\"].fillna(median_grade)\n",
    "cleaning_log.append(f\"Imputed {n_missing} missing grade(s) with median={median_grade:.1f}.\")\n",
    "\n",
    "print(\"\\n\".join(cleaning_log))\n",
    "df_clean.head(10)"
   ]
  },
  {
   "cell_type": "markdown",
   "id": "b780f7fc",
   "metadata": {},
   "source": [
    "\n",
    "## 8) Validate After Cleaning\n",
    "\n",
    "Double‑check:\n",
    "- No missing grades\n",
    "- All grades within `[0, 100]`\n",
    "- Summary stats look reasonable\n"
   ]
  },
  {
   "cell_type": "code",
   "execution_count": 12,
   "id": "70e363a5",
   "metadata": {},
   "outputs": [
    {
     "name": "stdout",
     "output_type": "stream",
     "text": [
      "Any missing now? False\n",
      "Any out-of-range now? False\n"
     ]
    },
    {
     "data": {
      "application/vnd.microsoft.datawrangler.viewer.v0+json": {
       "columns": [
        {
         "name": "index",
         "rawType": "object",
         "type": "string"
        },
        {
         "name": "Grade",
         "rawType": "float64",
         "type": "float"
        }
       ],
       "ref": "b381809f-3f9f-426e-a01a-2800e405c35a",
       "rows": [
        [
         "count",
         "35.0"
        ],
        [
         "mean",
         "69.47714285714287"
        ],
        [
         "std",
         "20.936094440467354"
        ],
        [
         "min",
         "0.0"
        ],
        [
         "25%",
         "64.8"
        ],
        [
         "50%",
         "72.0"
        ],
        [
         "75%",
         "80.55"
        ],
        [
         "max",
         "100.0"
        ]
       ],
       "shape": {
        "columns": 1,
        "rows": 8
       }
      },
      "text/html": [
       "<div>\n",
       "<style scoped>\n",
       "    .dataframe tbody tr th:only-of-type {\n",
       "        vertical-align: middle;\n",
       "    }\n",
       "\n",
       "    .dataframe tbody tr th {\n",
       "        vertical-align: top;\n",
       "    }\n",
       "\n",
       "    .dataframe thead th {\n",
       "        text-align: right;\n",
       "    }\n",
       "</style>\n",
       "<table border=\"1\" class=\"dataframe\">\n",
       "  <thead>\n",
       "    <tr style=\"text-align: right;\">\n",
       "      <th></th>\n",
       "      <th>Grade</th>\n",
       "    </tr>\n",
       "  </thead>\n",
       "  <tbody>\n",
       "    <tr>\n",
       "      <th>count</th>\n",
       "      <td>35.000000</td>\n",
       "    </tr>\n",
       "    <tr>\n",
       "      <th>mean</th>\n",
       "      <td>69.477143</td>\n",
       "    </tr>\n",
       "    <tr>\n",
       "      <th>std</th>\n",
       "      <td>20.936094</td>\n",
       "    </tr>\n",
       "    <tr>\n",
       "      <th>min</th>\n",
       "      <td>0.000000</td>\n",
       "    </tr>\n",
       "    <tr>\n",
       "      <th>25%</th>\n",
       "      <td>64.800000</td>\n",
       "    </tr>\n",
       "    <tr>\n",
       "      <th>50%</th>\n",
       "      <td>72.000000</td>\n",
       "    </tr>\n",
       "    <tr>\n",
       "      <th>75%</th>\n",
       "      <td>80.550000</td>\n",
       "    </tr>\n",
       "    <tr>\n",
       "      <th>max</th>\n",
       "      <td>100.000000</td>\n",
       "    </tr>\n",
       "  </tbody>\n",
       "</table>\n",
       "</div>"
      ],
      "text/plain": [
       "            Grade\n",
       "count   35.000000\n",
       "mean    69.477143\n",
       "std     20.936094\n",
       "min      0.000000\n",
       "25%     64.800000\n",
       "50%     72.000000\n",
       "75%     80.550000\n",
       "max    100.000000"
      ]
     },
     "metadata": {},
     "output_type": "display_data"
    }
   ],
   "source": [
    "\n",
    "print(\"Any missing now?\", df_clean[\"Grade\"].isna().any())\n",
    "print(\"Any out-of-range now?\", ((df_clean[\"Grade\"] < 0) | (df_clean[\"Grade\"] > 100)).any())\n",
    "display(df_clean.describe())"
   ]
  },
  {
   "cell_type": "markdown",
   "id": "e53434d4",
   "metadata": {},
   "source": [
    "\n",
    "## 9) Visualize Distribution (After Cleaning)\n",
    "\n",
    "Compare with the earlier plot. Is the distribution more plausible?\n"
   ]
  },
  {
   "cell_type": "code",
   "execution_count": 13,
   "id": "7fa9d7e8",
   "metadata": {},
   "outputs": [
    {
     "data": {
      "image/png": "[encoded data removed]",
      "text/plain": [
       "<Figure size 640x480 with 1 Axes>"
      ]
     },
     "metadata": {},
     "output_type": "display_data"
    }
   ],
   "source": [
    "\n",
    "plt.figure()\n",
    "df_clean[\"Grade\"].plot(kind=\"hist\", bins=15, edgecolor=\"black\")\n",
    "plt.title(\"Grade Distribution (After Cleaning)\")\n",
    "plt.xlabel(\"Grade\")\n",
    "plt.ylabel(\"Frequency\")\n",
    "plt.show()"
   ]
  },
  {
   "cell_type": "markdown",
   "id": "d47fdeeb",
   "metadata": {},
   "source": [
    "\n",
    "## 10) Save Outputs\n",
    "\n",
    "Save both the **raw-with-issues** and **cleaned** datasets to `outputs/` for your portfolio repo.\n"
   ]
  },
  {
   "cell_type": "code",
   "execution_count": null,
   "id": "8022f9a5",
   "metadata": {},
   "outputs": [],
   "source": [
    "\n",
    "from pathlib import Path\n",
    "out_dir = Path(\"outputs\")\n",
    "out_dir.mkdir(exist_ok=True, parents=True)\n",
    "\n",
    "raw_path = out_dir / \"student_grades_raw.csv\"\n",
    "clean_path = out_dir / \"student_grades_clean.csv\"\n",
    "\n",
    "df_dirty.to_csv(raw_path, index=False)\n",
    "df_clean.to_csv(clean_path, index=False)\n",
    "\n",
    "print(f\"Saved raw → {raw_path}\")\n",
    "print(f\"Saved clean → {clean_path}\")"
   ]
  },
  {
   "cell_type": "markdown",
   "id": "6a399ae2",
   "metadata": {},
   "source": [
    "\n",
    "## 11) Reflection (Short Answer)\n",
    "\n",
    "Add a few bullets here summarizing what you learned:\n",
    "- Which checks caught the most issues?\n",
    "- Which assumptions did you make? Are they defensible?\n",
    "- If this were a production pipeline, how would you log anomalies and fixes?\n",
    "- What would you change if you had categorical grades (A/B/C) instead of numeric?\n"
   ]
  }
 ],
 "metadata": {
  "kernelspec": {
   "display_name": ".venv",
   "language": "python",
   "name": "python3"
  },
  "language_info": {
   "codemirror_mode": {
    "name": "ipython",
    "version": 3
   },
   "file_extension": ".py",
   "mimetype": "text/x-python",
   "name": "python",
   "nbconvert_exporter": "python",
   "pygments_lexer": "ipython3",
   "version": "3.12.5"
  }
 },
 "nbformat": 4,
 "nbformat_minor": 5
}
